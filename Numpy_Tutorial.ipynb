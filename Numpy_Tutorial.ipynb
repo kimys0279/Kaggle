{
  "nbformat": 4,
  "nbformat_minor": 0,
  "metadata": {
    "colab": {
      "name": "Numpy Tutorial.ipynb",
      "provenance": [],
      "authorship_tag": "ABX9TyOglmEKL7/ghec1uwfG9SmW",
      "include_colab_link": true
    },
    "kernelspec": {
      "name": "python3",
      "display_name": "Python 3"
    }
  },
  "cells": [
    {
      "cell_type": "markdown",
      "metadata": {
        "id": "view-in-github",
        "colab_type": "text"
      },
      "source": [
        "<a href=\"https://colab.research.google.com/github/kimys0279/Kaggle/blob/main/Numpy_Tutorial.ipynb\" target=\"_parent\"><img src=\"https://colab.research.google.com/assets/colab-badge.svg\" alt=\"Open In Colab\"/></a>"
      ]
    },
    {
      "cell_type": "code",
      "metadata": {
        "colab": {
          "base_uri": "https://localhost:8080/"
        },
        "id": "i7QEJURd2DWj",
        "outputId": "94097777-37b6-46b6-be99-02d64e382ecf"
      },
      "source": [
        "import numpy as np\r\n",
        "test_array = np.array(['1', '4', 5, 8], float)\r\n",
        "print(test_array)\r\n",
        "type(test_array[3])"
      ],
      "execution_count": 5,
      "outputs": [
        {
          "output_type": "stream",
          "text": [
            "[1. 4. 5. 8.]\n"
          ],
          "name": "stdout"
        },
        {
          "output_type": "execute_result",
          "data": {
            "text/plain": [
              "numpy.float64"
            ]
          },
          "metadata": {
            "tags": []
          },
          "execution_count": 5
        }
      ]
    },
    {
      "cell_type": "code",
      "metadata": {
        "colab": {
          "base_uri": "https://localhost:8080/"
        },
        "id": "MmE_VEWD-szd",
        "outputId": "5e42e0c4-864c-4107-f6e7-467c0c6f321f"
      },
      "source": [
        "test_array = np.array([1, 4, 5, '8'], float)\r\n",
        "print(test_array)\r\n",
        "print(type(test_array[3]))\r\n",
        "print(test_array.dtype)\r\n",
        "print(test_array.shape)"
      ],
      "execution_count": 7,
      "outputs": [
        {
          "output_type": "stream",
          "text": [
            "[1. 4. 5. 8.]\n",
            "<class 'numpy.float64'>\n",
            "float64\n",
            "(4,)\n"
          ],
          "name": "stdout"
        }
      ]
    },
    {
      "cell_type": "code",
      "metadata": {
        "colab": {
          "base_uri": "https://localhost:8080/"
        },
        "id": "QFleXulK-sxM",
        "outputId": "524550c1-5d85-44cc-e508-861cdae3a1ae"
      },
      "source": [
        "matrix = [[1, 2, 5, 8], [1, 2, 5, 8], [1, 2, 5, 8]]\r\n",
        "np.array(matrix, int).shape"
      ],
      "execution_count": 8,
      "outputs": [
        {
          "output_type": "execute_result",
          "data": {
            "text/plain": [
              "(3, 4)"
            ]
          },
          "metadata": {
            "tags": []
          },
          "execution_count": 8
        }
      ]
    },
    {
      "cell_type": "code",
      "metadata": {
        "colab": {
          "base_uri": "https://localhost:8080/"
        },
        "id": "joxtFiyb-su0",
        "outputId": "85ad2d7d-5f2c-49e4-90af-a7f5f1e93a0c"
      },
      "source": [
        "tensor = [[[1, 2, 5, 8], [1, 2, 5, 8], [1, 2, 5, 8]], [[1, 2, 5, 8], [1, 2, 5, 8], [1, 2, 5, 8]], [[1, 2, 5, 8], [1, 2, 5, 8], [1, 2, 5, 8]], [[1, 2, 5, 8], [1, 2, 5, 8], [1, 2, 5, 8]]]\r\n",
        "np.array(tensor, int).shape "
      ],
      "execution_count": 11,
      "outputs": [
        {
          "output_type": "execute_result",
          "data": {
            "text/plain": [
              "(4, 3, 4)"
            ]
          },
          "metadata": {
            "tags": []
          },
          "execution_count": 11
        }
      ]
    },
    {
      "cell_type": "code",
      "metadata": {
        "colab": {
          "base_uri": "https://localhost:8080/"
        },
        "id": "Bfi4MX3T-ssu",
        "outputId": "8b354986-1e62-410b-e0aa-7b03648304da"
      },
      "source": [
        "np.array(tensor, int).ndim"
      ],
      "execution_count": 12,
      "outputs": [
        {
          "output_type": "execute_result",
          "data": {
            "text/plain": [
              "3"
            ]
          },
          "metadata": {
            "tags": []
          },
          "execution_count": 12
        }
      ]
    },
    {
      "cell_type": "code",
      "metadata": {
        "colab": {
          "base_uri": "https://localhost:8080/"
        },
        "id": "6_Lw4mu2-sqX",
        "outputId": "a277ac3f-4ddd-4d5a-a1e7-05b171fed16a"
      },
      "source": [
        "np.array(tensor, int).size"
      ],
      "execution_count": 13,
      "outputs": [
        {
          "output_type": "execute_result",
          "data": {
            "text/plain": [
              "48"
            ]
          },
          "metadata": {
            "tags": []
          },
          "execution_count": 13
        }
      ]
    },
    {
      "cell_type": "code",
      "metadata": {
        "colab": {
          "base_uri": "https://localhost:8080/"
        },
        "id": "Lly_JScJ-sn0",
        "outputId": "c0edd219-0200-4f28-8236-6c245d04d56d"
      },
      "source": [
        "np.array([[1, 2, 3], [4.5, 5, 6]], dtype = int)"
      ],
      "execution_count": 14,
      "outputs": [
        {
          "output_type": "execute_result",
          "data": {
            "text/plain": [
              "array([[1, 2, 3],\n",
              "       [4, 5, 6]])"
            ]
          },
          "metadata": {
            "tags": []
          },
          "execution_count": 14
        }
      ]
    },
    {
      "cell_type": "code",
      "metadata": {
        "colab": {
          "base_uri": "https://localhost:8080/"
        },
        "id": "RdLf8VWB-slo",
        "outputId": "d74b7265-5d84-4da4-af38-b051177a6052"
      },
      "source": [
        "np.array([[1, 2, 3], [4.5, '5', '6']], dtype = np.float32) #float32 = 4byte > 24byte"
      ],
      "execution_count": 15,
      "outputs": [
        {
          "output_type": "execute_result",
          "data": {
            "text/plain": [
              "array([[1. , 2. , 3. ],\n",
              "       [4.5, 5. , 6. ]], dtype=float32)"
            ]
          },
          "metadata": {
            "tags": []
          },
          "execution_count": 15
        }
      ]
    },
    {
      "cell_type": "code",
      "metadata": {
        "colab": {
          "base_uri": "https://localhost:8080/"
        },
        "id": "Fa4y0ygKCWKY",
        "outputId": "eb11420e-f5c0-43d8-92b6-b79c32712a1f"
      },
      "source": [
        "np.array([[1, 2, 3], [4.5, '5', '6']], dtype = np.float64) #float64 = 8byte > 48byte"
      ],
      "execution_count": 16,
      "outputs": [
        {
          "output_type": "execute_result",
          "data": {
            "text/plain": [
              "array([[1. , 2. , 3. ],\n",
              "       [4.5, 5. , 6. ]])"
            ]
          },
          "metadata": {
            "tags": []
          },
          "execution_count": 16
        }
      ]
    },
    {
      "cell_type": "code",
      "metadata": {
        "colab": {
          "base_uri": "https://localhost:8080/"
        },
        "id": "jvksT89z-sjC",
        "outputId": "14ae057c-cb86-4fd6-b829-005353693cfb"
      },
      "source": [
        "np.array([[1, 2, 3], [4.5, '5', '6']], dtype = int) #int = 1byte > 6byte"
      ],
      "execution_count": 18,
      "outputs": [
        {
          "output_type": "execute_result",
          "data": {
            "text/plain": [
              "array([[1, 2, 3],\n",
              "       [4, 5, 6]])"
            ]
          },
          "metadata": {
            "tags": []
          },
          "execution_count": 18
        }
      ]
    },
    {
      "cell_type": "markdown",
      "metadata": {
        "id": "awb-UDZODKB1"
      },
      "source": [
        "Reshape"
      ]
    },
    {
      "cell_type": "code",
      "metadata": {
        "colab": {
          "base_uri": "https://localhost:8080/"
        },
        "id": "WbKxOj-x-sgW",
        "outputId": "2f886ef8-cec0-43be-ea5c-3612a46bcf04"
      },
      "source": [
        "test_matrix = [[1, 2, 3, 4], [1,2, 5, 8]]\r\n",
        "np.array(test_matrix).shape "
      ],
      "execution_count": 19,
      "outputs": [
        {
          "output_type": "execute_result",
          "data": {
            "text/plain": [
              "(2, 4)"
            ]
          },
          "metadata": {
            "tags": []
          },
          "execution_count": 19
        }
      ]
    },
    {
      "cell_type": "code",
      "metadata": {
        "colab": {
          "base_uri": "https://localhost:8080/"
        },
        "id": "UjcU9BkR-sdg",
        "outputId": "77839187-6fbf-47ef-c255-8aa45b2799b8"
      },
      "source": [
        "np.array(test_matrix).reshape(8, )"
      ],
      "execution_count": 20,
      "outputs": [
        {
          "output_type": "execute_result",
          "data": {
            "text/plain": [
              "array([1, 2, 3, 4, 1, 2, 5, 8])"
            ]
          },
          "metadata": {
            "tags": []
          },
          "execution_count": 20
        }
      ]
    },
    {
      "cell_type": "code",
      "metadata": {
        "colab": {
          "base_uri": "https://localhost:8080/"
        },
        "id": "Ta8ze9hL-sXQ",
        "outputId": "24b4d0ae-7b63-479b-a744-e42f13c2f165"
      },
      "source": [
        "np.array(test_matrix).reshape(8, ).shape"
      ],
      "execution_count": 21,
      "outputs": [
        {
          "output_type": "execute_result",
          "data": {
            "text/plain": [
              "(8,)"
            ]
          },
          "metadata": {
            "tags": []
          },
          "execution_count": 21
        }
      ]
    },
    {
      "cell_type": "code",
      "metadata": {
        "colab": {
          "base_uri": "https://localhost:8080/"
        },
        "id": "hglVzITnDL6l",
        "outputId": "59cb0a32-a575-4314-dbbe-2e503d24cf8a"
      },
      "source": [
        "np.array(test_matrix).reshape(-1, 2)"
      ],
      "execution_count": 22,
      "outputs": [
        {
          "output_type": "execute_result",
          "data": {
            "text/plain": [
              "array([[1, 2],\n",
              "       [3, 4],\n",
              "       [1, 2],\n",
              "       [5, 8]])"
            ]
          },
          "metadata": {
            "tags": []
          },
          "execution_count": 22
        }
      ]
    },
    {
      "cell_type": "code",
      "metadata": {
        "colab": {
          "base_uri": "https://localhost:8080/"
        },
        "id": "u2hycloADWW5",
        "outputId": "7877c8d8-08d4-42f1-906f-0a4ffb05748a"
      },
      "source": [
        "a = np.array(test_matrix).reshape(2, 2, 2)\r\n",
        "a.size"
      ],
      "execution_count": 25,
      "outputs": [
        {
          "output_type": "execute_result",
          "data": {
            "text/plain": [
              "8"
            ]
          },
          "metadata": {
            "tags": []
          },
          "execution_count": 25
        }
      ]
    },
    {
      "cell_type": "code",
      "metadata": {
        "colab": {
          "base_uri": "https://localhost:8080/"
        },
        "id": "JtMNjgLkDat4",
        "outputId": "df8b47d6-b0d3-4ddc-bbc8-aa6f6f6c396d"
      },
      "source": [
        "np.array(test_matrix).reshape(2, 2,2).shape"
      ],
      "execution_count": 24,
      "outputs": [
        {
          "output_type": "execute_result",
          "data": {
            "text/plain": [
              "(2, 2, 2)"
            ]
          },
          "metadata": {
            "tags": []
          },
          "execution_count": 24
        }
      ]
    },
    {
      "cell_type": "code",
      "metadata": {
        "colab": {
          "base_uri": "https://localhost:8080/"
        },
        "id": "t3lB9-VmDmuY",
        "outputId": "e05d2bcc-a3a4-4cb6-9856-8fbd909d9bc2"
      },
      "source": [
        "a.reshape(1, 1, -1, 2)"
      ],
      "execution_count": 27,
      "outputs": [
        {
          "output_type": "execute_result",
          "data": {
            "text/plain": [
              "array([[[[1, 2],\n",
              "         [3, 4],\n",
              "         [1, 2],\n",
              "         [5, 8]]]])"
            ]
          },
          "metadata": {
            "tags": []
          },
          "execution_count": 27
        }
      ]
    },
    {
      "cell_type": "code",
      "metadata": {
        "colab": {
          "base_uri": "https://localhost:8080/"
        },
        "id": "8Q21HFUpDmsC",
        "outputId": "4caf94eb-8527-4fd8-e0c0-c60c878137a3"
      },
      "source": [
        "a.reshape(4, -1)"
      ],
      "execution_count": 28,
      "outputs": [
        {
          "output_type": "execute_result",
          "data": {
            "text/plain": [
              "array([[1, 2],\n",
              "       [3, 4],\n",
              "       [1, 2],\n",
              "       [5, 8]])"
            ]
          },
          "metadata": {
            "tags": []
          },
          "execution_count": 28
        }
      ]
    },
    {
      "cell_type": "markdown",
      "metadata": {
        "id": "rBS0WI7SD7SH"
      },
      "source": [
        "Flatten- 1차원 형태로 바꿔줌"
      ]
    },
    {
      "cell_type": "code",
      "metadata": {
        "colab": {
          "base_uri": "https://localhost:8080/"
        },
        "id": "YZow4jCVDmpp",
        "outputId": "b9c5e497-773d-4c58-9d35-eeb960313d5c"
      },
      "source": [
        "a.flatten()"
      ],
      "execution_count": 29,
      "outputs": [
        {
          "output_type": "execute_result",
          "data": {
            "text/plain": [
              "array([1, 2, 3, 4, 1, 2, 5, 8])"
            ]
          },
          "metadata": {
            "tags": []
          },
          "execution_count": 29
        }
      ]
    },
    {
      "cell_type": "markdown",
      "metadata": {
        "id": "Q4aW1IlAF-6Z"
      },
      "source": [
        "Indexing and SLicing"
      ]
    },
    {
      "cell_type": "code",
      "metadata": {
        "colab": {
          "base_uri": "https://localhost:8080/"
        },
        "id": "5VXZmipGDmnb",
        "outputId": "703e62cd-9e32-4aff-8599-e9da9dc63818"
      },
      "source": [
        "a = np.array([[1, 2, 3], [4.5, 5, 6]], int)\r\n",
        "print(a)"
      ],
      "execution_count": 31,
      "outputs": [
        {
          "output_type": "stream",
          "text": [
            "[[1 2 3]\n",
            " [4 5 6]]\n"
          ],
          "name": "stdout"
        }
      ]
    },
    {
      "cell_type": "code",
      "metadata": {
        "colab": {
          "base_uri": "https://localhost:8080/"
        },
        "id": "8LtfwVQ2Dmkp",
        "outputId": "a3df543a-13a0-4932-d798-898226e41493"
      },
      "source": [
        "print(a[0, 0])"
      ],
      "execution_count": 32,
      "outputs": [
        {
          "output_type": "stream",
          "text": [
            "1\n"
          ],
          "name": "stdout"
        }
      ]
    },
    {
      "cell_type": "code",
      "metadata": {
        "colab": {
          "base_uri": "https://localhost:8080/"
        },
        "id": "bs165WqWDmiV",
        "outputId": "e34e1b4b-0a76-46a6-9a81-2d7c627f5099"
      },
      "source": [
        "print(a[0][0])"
      ],
      "execution_count": 33,
      "outputs": [
        {
          "output_type": "stream",
          "text": [
            "1\n"
          ],
          "name": "stdout"
        }
      ]
    },
    {
      "cell_type": "code",
      "metadata": {
        "colab": {
          "base_uri": "https://localhost:8080/"
        },
        "id": "N13XHN-aDmfp",
        "outputId": "fb582c5e-2c54-44d9-e62d-aaf0e61ee982"
      },
      "source": [
        "a[0, 0] =a[0, 1] = 12\r\n",
        "print(a)"
      ],
      "execution_count": 41,
      "outputs": [
        {
          "output_type": "stream",
          "text": [
            "[[12 12  3  4  5]\n",
            " [ 6  7  8  9 10]]\n"
          ],
          "name": "stdout"
        }
      ]
    },
    {
      "cell_type": "code",
      "metadata": {
        "colab": {
          "base_uri": "https://localhost:8080/"
        },
        "id": "gHPqCYgtDmdG",
        "outputId": "c3750ae1-808d-403a-cfa9-c663602dce95"
      },
      "source": [
        "a = np.array([[1, 2, 3, 4, 5], [6, 7, 8, 9, 10]], int)\r\n",
        "a[:, 2:]"
      ],
      "execution_count": 37,
      "outputs": [
        {
          "output_type": "execute_result",
          "data": {
            "text/plain": [
              "array([[ 3,  4,  5],\n",
              "       [ 8,  9, 10]])"
            ]
          },
          "metadata": {
            "tags": []
          },
          "execution_count": 37
        }
      ]
    },
    {
      "cell_type": "code",
      "metadata": {
        "colab": {
          "base_uri": "https://localhost:8080/"
        },
        "id": "0IBKITxXDmaT",
        "outputId": "b15a0ff5-bbe2-4de6-aaea-4dcf5c1d83b8"
      },
      "source": [
        "a[1, 1:3]"
      ],
      "execution_count": 38,
      "outputs": [
        {
          "output_type": "execute_result",
          "data": {
            "text/plain": [
              "array([7, 8])"
            ]
          },
          "metadata": {
            "tags": []
          },
          "execution_count": 38
        }
      ]
    },
    {
      "cell_type": "code",
      "metadata": {
        "colab": {
          "base_uri": "https://localhost:8080/"
        },
        "id": "N4E_m4xiDmXe",
        "outputId": "58877056-e144-49dc-bb55-41d157dbef63"
      },
      "source": [
        "a[1:3]"
      ],
      "execution_count": 39,
      "outputs": [
        {
          "output_type": "execute_result",
          "data": {
            "text/plain": [
              "array([[ 6,  7,  8,  9, 10]])"
            ]
          },
          "metadata": {
            "tags": []
          },
          "execution_count": 39
        }
      ]
    },
    {
      "cell_type": "markdown",
      "metadata": {
        "id": "Mq36GXAdNP3w"
      },
      "source": [
        "Creation Function"
      ]
    },
    {
      "cell_type": "code",
      "metadata": {
        "colab": {
          "base_uri": "https://localhost:8080/"
        },
        "id": "Ufd3aW0ZDmVQ",
        "outputId": "d43e8f01-a613-4e0a-8647-b2998e182f24"
      },
      "source": [
        "np.arange(30)"
      ],
      "execution_count": 42,
      "outputs": [
        {
          "output_type": "execute_result",
          "data": {
            "text/plain": [
              "array([ 0,  1,  2,  3,  4,  5,  6,  7,  8,  9, 10, 11, 12, 13, 14, 15, 16,\n",
              "       17, 18, 19, 20, 21, 22, 23, 24, 25, 26, 27, 28, 29])"
            ]
          },
          "metadata": {
            "tags": []
          },
          "execution_count": 42
        }
      ]
    },
    {
      "cell_type": "code",
      "metadata": {
        "colab": {
          "base_uri": "https://localhost:8080/"
        },
        "id": "HtMBNWHFDmS4",
        "outputId": "db8ba2cc-655f-4a09-9d7c-23f8a5f801db"
      },
      "source": [
        "np.arange(0, 5, 0.5)"
      ],
      "execution_count": 43,
      "outputs": [
        {
          "output_type": "execute_result",
          "data": {
            "text/plain": [
              "array([0. , 0.5, 1. , 1.5, 2. , 2.5, 3. , 3.5, 4. , 4.5])"
            ]
          },
          "metadata": {
            "tags": []
          },
          "execution_count": 43
        }
      ]
    },
    {
      "cell_type": "code",
      "metadata": {
        "colab": {
          "base_uri": "https://localhost:8080/"
        },
        "id": "nGFUeCGhDmQI",
        "outputId": "b59c64d0-ce0c-4683-ff0c-5cae6f868fcd"
      },
      "source": [
        "np.arange(30).reshape(5, 6)"
      ],
      "execution_count": 44,
      "outputs": [
        {
          "output_type": "execute_result",
          "data": {
            "text/plain": [
              "array([[ 0,  1,  2,  3,  4,  5],\n",
              "       [ 6,  7,  8,  9, 10, 11],\n",
              "       [12, 13, 14, 15, 16, 17],\n",
              "       [18, 19, 20, 21, 22, 23],\n",
              "       [24, 25, 26, 27, 28, 29]])"
            ]
          },
          "metadata": {
            "tags": []
          },
          "execution_count": 44
        }
      ]
    },
    {
      "cell_type": "code",
      "metadata": {
        "colab": {
          "base_uri": "https://localhost:8080/"
        },
        "id": "vvswVFv7DmNw",
        "outputId": "cc2ebd9c-900b-47d0-eada-3231f86195e1"
      },
      "source": [
        "np.arange(0, 5, 0.1).tolist()"
      ],
      "execution_count": 45,
      "outputs": [
        {
          "output_type": "execute_result",
          "data": {
            "text/plain": [
              "[0.0,\n",
              " 0.1,\n",
              " 0.2,\n",
              " 0.30000000000000004,\n",
              " 0.4,\n",
              " 0.5,\n",
              " 0.6000000000000001,\n",
              " 0.7000000000000001,\n",
              " 0.8,\n",
              " 0.9,\n",
              " 1.0,\n",
              " 1.1,\n",
              " 1.2000000000000002,\n",
              " 1.3,\n",
              " 1.4000000000000001,\n",
              " 1.5,\n",
              " 1.6,\n",
              " 1.7000000000000002,\n",
              " 1.8,\n",
              " 1.9000000000000001,\n",
              " 2.0,\n",
              " 2.1,\n",
              " 2.2,\n",
              " 2.3000000000000003,\n",
              " 2.4000000000000004,\n",
              " 2.5,\n",
              " 2.6,\n",
              " 2.7,\n",
              " 2.8000000000000003,\n",
              " 2.9000000000000004,\n",
              " 3.0,\n",
              " 3.1,\n",
              " 3.2,\n",
              " 3.3000000000000003,\n",
              " 3.4000000000000004,\n",
              " 3.5,\n",
              " 3.6,\n",
              " 3.7,\n",
              " 3.8000000000000003,\n",
              " 3.9000000000000004,\n",
              " 4.0,\n",
              " 4.1000000000000005,\n",
              " 4.2,\n",
              " 4.3,\n",
              " 4.4,\n",
              " 4.5,\n",
              " 4.6000000000000005,\n",
              " 4.7,\n",
              " 4.800000000000001,\n",
              " 4.9]"
            ]
          },
          "metadata": {
            "tags": []
          },
          "execution_count": 45
        }
      ]
    },
    {
      "cell_type": "markdown",
      "metadata": {
        "id": "z_9PiptQN8Nk"
      },
      "source": [
        "ones, zeros and empty"
      ]
    },
    {
      "cell_type": "code",
      "metadata": {
        "colab": {
          "base_uri": "https://localhost:8080/"
        },
        "id": "eVRjpPbNHRjh",
        "outputId": "48de5bd4-045f-4ae0-a3ac-77fa81cd7f75"
      },
      "source": [
        "np.zeros(shape = (10, ), dtype = np.int)"
      ],
      "execution_count": 46,
      "outputs": [
        {
          "output_type": "execute_result",
          "data": {
            "text/plain": [
              "array([0, 0, 0, 0, 0, 0, 0, 0, 0, 0])"
            ]
          },
          "metadata": {
            "tags": []
          },
          "execution_count": 46
        }
      ]
    },
    {
      "cell_type": "code",
      "metadata": {
        "colab": {
          "base_uri": "https://localhost:8080/"
        },
        "id": "fr_VQEiPHRg-",
        "outputId": "713138f5-a5ab-4aef-ab18-f18c8c65ad31"
      },
      "source": [
        "np.zeros((2, 5))"
      ],
      "execution_count": 47,
      "outputs": [
        {
          "output_type": "execute_result",
          "data": {
            "text/plain": [
              "array([[0., 0., 0., 0., 0.],\n",
              "       [0., 0., 0., 0., 0.]])"
            ]
          },
          "metadata": {
            "tags": []
          },
          "execution_count": 47
        }
      ]
    },
    {
      "cell_type": "code",
      "metadata": {
        "colab": {
          "base_uri": "https://localhost:8080/"
        },
        "id": "3nF-i8vSHRei",
        "outputId": "efd58628-5f93-44a9-a328-d478e77ed91c"
      },
      "source": [
        "np.ones(shape = (10, ), dtype = int)"
      ],
      "execution_count": 48,
      "outputs": [
        {
          "output_type": "execute_result",
          "data": {
            "text/plain": [
              "array([1, 1, 1, 1, 1, 1, 1, 1, 1, 1])"
            ]
          },
          "metadata": {
            "tags": []
          },
          "execution_count": 48
        }
      ]
    },
    {
      "cell_type": "code",
      "metadata": {
        "colab": {
          "base_uri": "https://localhost:8080/"
        },
        "id": "JHFwcgUQHRcU",
        "outputId": "ac1f4834-c6dc-47fd-ec45-270f5e56de73"
      },
      "source": [
        "np.empty(shape = (10, ), dtype = np.int) #이상한 값이 들어있음: 메모리 위치만 잡을 뿐이라 예전에 남아있던 값들이 잡히는 것. 초기화시켜주지 않음"
      ],
      "execution_count": 49,
      "outputs": [
        {
          "output_type": "execute_result",
          "data": {
            "text/plain": [
              "array([93922053311696,              0,              0,              0,\n",
              "                    0,              0,              0,              0,\n",
              "                    0,              0])"
            ]
          },
          "metadata": {
            "tags": []
          },
          "execution_count": 49
        }
      ]
    },
    {
      "cell_type": "code",
      "metadata": {
        "colab": {
          "base_uri": "https://localhost:8080/"
        },
        "id": "2ZFiTVG4HRZb",
        "outputId": "7c94a950-f4e0-47f9-c63f-6f14dda4ae77"
      },
      "source": [
        "test_matrix = np.arange(30).reshape(5, 6)\r\n",
        "np.ones_like(test_matrix)"
      ],
      "execution_count": 51,
      "outputs": [
        {
          "output_type": "execute_result",
          "data": {
            "text/plain": [
              "array([[1, 1, 1, 1, 1, 1],\n",
              "       [1, 1, 1, 1, 1, 1],\n",
              "       [1, 1, 1, 1, 1, 1],\n",
              "       [1, 1, 1, 1, 1, 1],\n",
              "       [1, 1, 1, 1, 1, 1]])"
            ]
          },
          "metadata": {
            "tags": []
          },
          "execution_count": 51
        }
      ]
    },
    {
      "cell_type": "markdown",
      "metadata": {
        "id": "K-KBMy3CO_vW"
      },
      "source": [
        "identity"
      ]
    },
    {
      "cell_type": "code",
      "metadata": {
        "colab": {
          "base_uri": "https://localhost:8080/"
        },
        "id": "Ns3EfaQ7HRWr",
        "outputId": "1d87ce83-623a-48c6-fa4f-cd974374e75d"
      },
      "source": [
        "np.identity(n = 3, dtype = np.int)"
      ],
      "execution_count": 55,
      "outputs": [
        {
          "output_type": "execute_result",
          "data": {
            "text/plain": [
              "array([[1, 0, 0],\n",
              "       [0, 1, 0],\n",
              "       [0, 0, 1]])"
            ]
          },
          "metadata": {
            "tags": []
          },
          "execution_count": 55
        }
      ]
    },
    {
      "cell_type": "code",
      "metadata": {
        "colab": {
          "base_uri": "https://localhost:8080/"
        },
        "id": "xG6wePjwHRUe",
        "outputId": "7e0edc05-6fa2-4c1f-f9ae-c4dffc025698"
      },
      "source": [
        "np.eye(N=3, M=5, dtype=np.int)"
      ],
      "execution_count": 58,
      "outputs": [
        {
          "output_type": "execute_result",
          "data": {
            "text/plain": [
              "array([[1, 0, 0, 0, 0],\n",
              "       [0, 1, 0, 0, 0],\n",
              "       [0, 0, 1, 0, 0]])"
            ]
          },
          "metadata": {
            "tags": []
          },
          "execution_count": 58
        }
      ]
    },
    {
      "cell_type": "code",
      "metadata": {
        "colab": {
          "base_uri": "https://localhost:8080/"
        },
        "id": "Z50SyQIcHRRL",
        "outputId": "7715d3b8-ce81-4c14-b6be-af58d8b4dc05"
      },
      "source": [
        "np.eye(3, 5, k=2) #이게 identity 보다 조금 더 범용성 있을듯"
      ],
      "execution_count": 59,
      "outputs": [
        {
          "output_type": "execute_result",
          "data": {
            "text/plain": [
              "array([[0., 0., 1., 0., 0.],\n",
              "       [0., 0., 0., 1., 0.],\n",
              "       [0., 0., 0., 0., 1.]])"
            ]
          },
          "metadata": {
            "tags": []
          },
          "execution_count": 59
        }
      ]
    },
    {
      "cell_type": "code",
      "metadata": {
        "colab": {
          "base_uri": "https://localhost:8080/"
        },
        "id": "rZqWhYZqHROp",
        "outputId": "feccfbe5-1b30-44b3-f3dc-474be23ef187"
      },
      "source": [
        "matrix = np.arange(9).reshape(3, 3)\r\n",
        "np.diag(matrix) # 대각선 값 뽑아오기"
      ],
      "execution_count": 60,
      "outputs": [
        {
          "output_type": "execute_result",
          "data": {
            "text/plain": [
              "array([0, 4, 8])"
            ]
          },
          "metadata": {
            "tags": []
          },
          "execution_count": 60
        }
      ]
    },
    {
      "cell_type": "code",
      "metadata": {
        "colab": {
          "base_uri": "https://localhost:8080/"
        },
        "id": "wiMBIKEbHRL8",
        "outputId": "474f1729-8df4-4ce7-c2e4-d15c9eff36cc"
      },
      "source": [
        "np.diag(matrix, k= 1)"
      ],
      "execution_count": 61,
      "outputs": [
        {
          "output_type": "execute_result",
          "data": {
            "text/plain": [
              "array([1, 5])"
            ]
          },
          "metadata": {
            "tags": []
          },
          "execution_count": 61
        }
      ]
    },
    {
      "cell_type": "code",
      "metadata": {
        "colab": {
          "base_uri": "https://localhost:8080/"
        },
        "id": "xHCZrKN-HRJV",
        "outputId": "079bde3d-bbdf-4007-fdcc-ab0c511c9cae"
      },
      "source": [
        "np.random.uniform(0, 1, 10).reshape(2, 5) #균등분포"
      ],
      "execution_count": 64,
      "outputs": [
        {
          "output_type": "execute_result",
          "data": {
            "text/plain": [
              "array([[0.15942805, 0.57965056, 0.78300662, 0.0922205 , 0.25688106],\n",
              "       [0.19189659, 0.84559604, 0.91986465, 0.6804586 , 0.25471044]])"
            ]
          },
          "metadata": {
            "tags": []
          },
          "execution_count": 64
        }
      ]
    },
    {
      "cell_type": "code",
      "metadata": {
        "colab": {
          "base_uri": "https://localhost:8080/"
        },
        "id": "85YwcvZRHRGj",
        "outputId": "946732b2-6d13-4d16-ba12-352fa02e7476"
      },
      "source": [
        "np.random.normal(0, 1, 10).reshape(2, 5) #정규분포"
      ],
      "execution_count": 65,
      "outputs": [
        {
          "output_type": "execute_result",
          "data": {
            "text/plain": [
              "array([[-0.15363992, -0.77593526, -0.5370567 , -0.96592878, -0.80365657],\n",
              "       [-0.15407532,  0.0682952 , -0.5264365 , -0.58500107,  0.5757001 ]])"
            ]
          },
          "metadata": {
            "tags": []
          },
          "execution_count": 65
        }
      ]
    },
    {
      "cell_type": "markdown",
      "metadata": {
        "id": "ybY7e5ShcN6B"
      },
      "source": [
        "Operation Function"
      ]
    },
    {
      "cell_type": "code",
      "metadata": {
        "colab": {
          "base_uri": "https://localhost:8080/"
        },
        "id": "eZ3W8F5IHRDq",
        "outputId": "c547ad77-1575-4372-b69c-4d90f4d097d0"
      },
      "source": [
        "test_array = np.arange(1, 11)\r\n",
        "test_array"
      ],
      "execution_count": 66,
      "outputs": [
        {
          "output_type": "execute_result",
          "data": {
            "text/plain": [
              "array([ 1,  2,  3,  4,  5,  6,  7,  8,  9, 10])"
            ]
          },
          "metadata": {
            "tags": []
          },
          "execution_count": 66
        }
      ]
    },
    {
      "cell_type": "code",
      "metadata": {
        "colab": {
          "base_uri": "https://localhost:8080/"
        },
        "id": "BhurYlsIHRBm",
        "outputId": "7046e95f-5ef3-467e-b614-1ff70c3461ee"
      },
      "source": [
        "test_array.sum(dtype = np.float)"
      ],
      "execution_count": 67,
      "outputs": [
        {
          "output_type": "execute_result",
          "data": {
            "text/plain": [
              "55.0"
            ]
          },
          "metadata": {
            "tags": []
          },
          "execution_count": 67
        }
      ]
    },
    {
      "cell_type": "code",
      "metadata": {
        "colab": {
          "base_uri": "https://localhost:8080/"
        },
        "id": "g-HSjJBfHQ-y",
        "outputId": "c1e28a5e-b65a-4e45-c9fe-33f80a47f65d"
      },
      "source": [
        "test_array = np.arange(1, 13).reshape(3, 4)\r\n",
        "test_array"
      ],
      "execution_count": 68,
      "outputs": [
        {
          "output_type": "execute_result",
          "data": {
            "text/plain": [
              "array([[ 1,  2,  3,  4],\n",
              "       [ 5,  6,  7,  8],\n",
              "       [ 9, 10, 11, 12]])"
            ]
          },
          "metadata": {
            "tags": []
          },
          "execution_count": 68
        }
      ]
    },
    {
      "cell_type": "code",
      "metadata": {
        "colab": {
          "base_uri": "https://localhost:8080/"
        },
        "id": "s7yp1SizHQ8h",
        "outputId": "8e98fc91-b244-44bd-e55c-c92a177b5403"
      },
      "source": [
        "test_array.sum(axis = 1), test_array.sum(axis = 0)"
      ],
      "execution_count": 69,
      "outputs": [
        {
          "output_type": "execute_result",
          "data": {
            "text/plain": [
              "(array([10, 26, 42]), array([15, 18, 21, 24]))"
            ]
          },
          "metadata": {
            "tags": []
          },
          "execution_count": 69
        }
      ]
    },
    {
      "cell_type": "code",
      "metadata": {
        "colab": {
          "base_uri": "https://localhost:8080/"
        },
        "id": "rBNlmozjHQ6A",
        "outputId": "2941510d-ca18-4238-86cd-27a3b7e35da7"
      },
      "source": [
        "third_order_tensor = np.array([test_array, test_array, test_array])\r\n",
        "third_order_tensor"
      ],
      "execution_count": 76,
      "outputs": [
        {
          "output_type": "execute_result",
          "data": {
            "text/plain": [
              "array([[[ 1,  2,  3,  4],\n",
              "        [ 5,  6,  7,  8],\n",
              "        [ 9, 10, 11, 12]],\n",
              "\n",
              "       [[ 1,  2,  3,  4],\n",
              "        [ 5,  6,  7,  8],\n",
              "        [ 9, 10, 11, 12]],\n",
              "\n",
              "       [[ 1,  2,  3,  4],\n",
              "        [ 5,  6,  7,  8],\n",
              "        [ 9, 10, 11, 12]]])"
            ]
          },
          "metadata": {
            "tags": []
          },
          "execution_count": 76
        }
      ]
    },
    {
      "cell_type": "code",
      "metadata": {
        "colab": {
          "base_uri": "https://localhost:8080/"
        },
        "id": "b0bMzi48HQ3j",
        "outputId": "eb43f67a-7530-4129-9c50-9b45c1aa380e"
      },
      "source": [
        "third_order_tensor.sum(axis = 2)"
      ],
      "execution_count": 77,
      "outputs": [
        {
          "output_type": "execute_result",
          "data": {
            "text/plain": [
              "array([[10, 26, 42],\n",
              "       [10, 26, 42],\n",
              "       [10, 26, 42]])"
            ]
          },
          "metadata": {
            "tags": []
          },
          "execution_count": 77
        }
      ]
    },
    {
      "cell_type": "code",
      "metadata": {
        "colab": {
          "base_uri": "https://localhost:8080/"
        },
        "id": "_HpGg7waHQ1X",
        "outputId": "01eae795-42bb-492b-c910-e76149ccc75f"
      },
      "source": [
        "third_order_tensor.sum(axis = 1)"
      ],
      "execution_count": 78,
      "outputs": [
        {
          "output_type": "execute_result",
          "data": {
            "text/plain": [
              "array([[15, 18, 21, 24],\n",
              "       [15, 18, 21, 24],\n",
              "       [15, 18, 21, 24]])"
            ]
          },
          "metadata": {
            "tags": []
          },
          "execution_count": 78
        }
      ]
    },
    {
      "cell_type": "code",
      "metadata": {
        "colab": {
          "base_uri": "https://localhost:8080/"
        },
        "id": "vwrTdVePeABY",
        "outputId": "761ac915-d0a3-46db-e68e-47710674c5c6"
      },
      "source": [
        "third_order_tensor.sum(axis = 0)"
      ],
      "execution_count": 79,
      "outputs": [
        {
          "output_type": "execute_result",
          "data": {
            "text/plain": [
              "array([[ 3,  6,  9, 12],\n",
              "       [15, 18, 21, 24],\n",
              "       [27, 30, 33, 36]])"
            ]
          },
          "metadata": {
            "tags": []
          },
          "execution_count": 79
        }
      ]
    },
    {
      "cell_type": "code",
      "metadata": {
        "colab": {
          "base_uri": "https://localhost:8080/"
        },
        "id": "VJ13f_kZd__G",
        "outputId": "2b1956e8-1f03-4b4a-87bb-d76d2ab3e77d"
      },
      "source": [
        "test_array = np.arange(1, 13).reshape(3, 4)\r\n",
        "test_array"
      ],
      "execution_count": 80,
      "outputs": [
        {
          "output_type": "execute_result",
          "data": {
            "text/plain": [
              "array([[ 1,  2,  3,  4],\n",
              "       [ 5,  6,  7,  8],\n",
              "       [ 9, 10, 11, 12]])"
            ]
          },
          "metadata": {
            "tags": []
          },
          "execution_count": 80
        }
      ]
    },
    {
      "cell_type": "code",
      "metadata": {
        "colab": {
          "base_uri": "https://localhost:8080/"
        },
        "id": "LyzoFQvud_9B",
        "outputId": "49302f66-044c-4ce3-b690-d88df8cff3a2"
      },
      "source": [
        "test_array.mean(), test_array.mean(axis = 0)"
      ],
      "execution_count": 81,
      "outputs": [
        {
          "output_type": "execute_result",
          "data": {
            "text/plain": [
              "(6.5, array([5., 6., 7., 8.]))"
            ]
          },
          "metadata": {
            "tags": []
          },
          "execution_count": 81
        }
      ]
    },
    {
      "cell_type": "code",
      "metadata": {
        "colab": {
          "base_uri": "https://localhost:8080/"
        },
        "id": "7zqfAV5Id_7B",
        "outputId": "fb6b4543-9163-4ada-a696-369075312c1f"
      },
      "source": [
        "test_array.std(), test_array.std(axis = 0)"
      ],
      "execution_count": 82,
      "outputs": [
        {
          "output_type": "execute_result",
          "data": {
            "text/plain": [
              "(3.452052529534663, array([3.26598632, 3.26598632, 3.26598632, 3.26598632]))"
            ]
          },
          "metadata": {
            "tags": []
          },
          "execution_count": 82
        }
      ]
    },
    {
      "cell_type": "code",
      "metadata": {
        "colab": {
          "base_uri": "https://localhost:8080/"
        },
        "id": "93VK-Vt0d_4h",
        "outputId": "e53a5982-4573-4666-a2f9-a1fa8074e8db"
      },
      "source": [
        "np.exp(test_array), np.sqrt(test_array)"
      ],
      "execution_count": 84,
      "outputs": [
        {
          "output_type": "execute_result",
          "data": {
            "text/plain": [
              "(array([[2.71828183e+00, 7.38905610e+00, 2.00855369e+01, 5.45981500e+01],\n",
              "        [1.48413159e+02, 4.03428793e+02, 1.09663316e+03, 2.98095799e+03],\n",
              "        [8.10308393e+03, 2.20264658e+04, 5.98741417e+04, 1.62754791e+05]]),\n",
              " array([[1.        , 1.41421356, 1.73205081, 2.        ],\n",
              "        [2.23606798, 2.44948974, 2.64575131, 2.82842712],\n",
              "        [3.        , 3.16227766, 3.31662479, 3.46410162]]))"
            ]
          },
          "metadata": {
            "tags": []
          },
          "execution_count": 84
        }
      ]
    },
    {
      "cell_type": "markdown",
      "metadata": {
        "id": "aZ07jf49e-CG"
      },
      "source": [
        "concatenate - 합치기"
      ]
    },
    {
      "cell_type": "code",
      "metadata": {
        "colab": {
          "base_uri": "https://localhost:8080/"
        },
        "id": "-Jw9YFqad_2Y",
        "outputId": "a84605f2-8248-4f33-cc9c-beb1e30972a1"
      },
      "source": [
        "a = np.array([1, 2, 3])\r\n",
        "b = np.array([4, 5, 6])\r\n",
        "np.vstack((a, b))"
      ],
      "execution_count": 85,
      "outputs": [
        {
          "output_type": "execute_result",
          "data": {
            "text/plain": [
              "array([[1, 2, 3],\n",
              "       [4, 5, 6]])"
            ]
          },
          "metadata": {
            "tags": []
          },
          "execution_count": 85
        }
      ]
    },
    {
      "cell_type": "code",
      "metadata": {
        "colab": {
          "base_uri": "https://localhost:8080/"
        },
        "id": "UI3QpF4gd_0E",
        "outputId": "321912cd-78ca-48ca-de80-bb5d4aeb5e00"
      },
      "source": [
        "a = np.array([[1], [2], [3]])\r\n",
        "b = np.array([[2], [3], [4]])\r\n",
        "np.hstack((a, b))"
      ],
      "execution_count": 87,
      "outputs": [
        {
          "output_type": "execute_result",
          "data": {
            "text/plain": [
              "array([[1, 2],\n",
              "       [2, 3],\n",
              "       [3, 4]])"
            ]
          },
          "metadata": {
            "tags": []
          },
          "execution_count": 87
        }
      ]
    },
    {
      "cell_type": "code",
      "metadata": {
        "colab": {
          "base_uri": "https://localhost:8080/"
        },
        "id": "_QFY8gwZd_x8",
        "outputId": "fc8c938a-cc7b-45d0-86d7-fdbcd0278788"
      },
      "source": [
        "a = np.array([1, 2, 3])\r\n",
        "b = np.array([4, 5, 6])\r\n",
        "np.hstack((a, b))"
      ],
      "execution_count": 88,
      "outputs": [
        {
          "output_type": "execute_result",
          "data": {
            "text/plain": [
              "array([1, 2, 3, 4, 5, 6])"
            ]
          },
          "metadata": {
            "tags": []
          },
          "execution_count": 88
        }
      ]
    },
    {
      "cell_type": "code",
      "metadata": {
        "colab": {
          "base_uri": "https://localhost:8080/"
        },
        "id": "MFBeZ2fjd_uT",
        "outputId": "50fd14b3-858d-4bdc-9d13-b73a33d574c7"
      },
      "source": [
        "a = np.array([1, 2, 3])\r\n",
        "b = np.array([4, 5, 6])\r\n",
        "np.concatenate((a, b), axis = 0)"
      ],
      "execution_count": 89,
      "outputs": [
        {
          "output_type": "execute_result",
          "data": {
            "text/plain": [
              "array([1, 2, 3, 4, 5, 6])"
            ]
          },
          "metadata": {
            "tags": []
          },
          "execution_count": 89
        }
      ]
    },
    {
      "cell_type": "code",
      "metadata": {
        "colab": {
          "base_uri": "https://localhost:8080/"
        },
        "id": "F20TZ_3FefXR",
        "outputId": "199bc558-014e-47b8-b7c3-57fe2505f8ba"
      },
      "source": [
        "a = np.array([[1, 2], [3, 4]])\r\n",
        "b = np.array([[5, 6]])\r\n",
        "np.concatenate((a, b.T), axis = 1)"
      ],
      "execution_count": 93,
      "outputs": [
        {
          "output_type": "execute_result",
          "data": {
            "text/plain": [
              "array([[1, 2, 5],\n",
              "       [3, 4, 6]])"
            ]
          },
          "metadata": {
            "tags": []
          },
          "execution_count": 93
        }
      ]
    },
    {
      "cell_type": "markdown",
      "metadata": {
        "id": "DuS1l_wAgGy7"
      },
      "source": [
        "Array Operation"
      ]
    },
    {
      "cell_type": "code",
      "metadata": {
        "id": "ARqe34vGefUx"
      },
      "source": [
        "test_a = np.array([[1, 2, 3], [4, 5, 6]], float)"
      ],
      "execution_count": 96,
      "outputs": []
    },
    {
      "cell_type": "code",
      "metadata": {
        "colab": {
          "base_uri": "https://localhost:8080/"
        },
        "id": "FZuL8N74efSf",
        "outputId": "174694b9-b803-4044-b0f0-b6bb6c423c57"
      },
      "source": [
        "test_a + test_a"
      ],
      "execution_count": 95,
      "outputs": [
        {
          "output_type": "execute_result",
          "data": {
            "text/plain": [
              "array([[ 2.,  4.,  6.],\n",
              "       [ 8., 10., 12.]])"
            ]
          },
          "metadata": {
            "tags": []
          },
          "execution_count": 95
        }
      ]
    },
    {
      "cell_type": "code",
      "metadata": {
        "colab": {
          "base_uri": "https://localhost:8080/"
        },
        "id": "F7WLZUUuefQZ",
        "outputId": "e7efefd4-3c56-48e8-81f6-3c73942894d1"
      },
      "source": [
        "test_a - test_a"
      ],
      "execution_count": 97,
      "outputs": [
        {
          "output_type": "execute_result",
          "data": {
            "text/plain": [
              "array([[0., 0., 0.],\n",
              "       [0., 0., 0.]])"
            ]
          },
          "metadata": {
            "tags": []
          },
          "execution_count": 97
        }
      ]
    },
    {
      "cell_type": "code",
      "metadata": {
        "colab": {
          "base_uri": "https://localhost:8080/"
        },
        "id": "4VVOP6w5efN2",
        "outputId": "53b7cc15-1d7e-40dc-fe81-5df10d31b692"
      },
      "source": [
        "test_a * test_a #shape 가 같으면 matrix 내 같은 위치끼리 곱셈"
      ],
      "execution_count": 99,
      "outputs": [
        {
          "output_type": "execute_result",
          "data": {
            "text/plain": [
              "array([[ 1.,  4.,  9.],\n",
              "       [16., 25., 36.]])"
            ]
          },
          "metadata": {
            "tags": []
          },
          "execution_count": 99
        }
      ]
    },
    {
      "cell_type": "code",
      "metadata": {
        "colab": {
          "base_uri": "https://localhost:8080/"
        },
        "id": "p7mK6BQnefMC",
        "outputId": "5291d0c5-25b3-48c7-f0b1-aba1b9f461aa"
      },
      "source": [
        "matrix_a = np.arange(1, 13).reshape(3, 4)\r\n",
        "matrix_a * matrix_a"
      ],
      "execution_count": 100,
      "outputs": [
        {
          "output_type": "execute_result",
          "data": {
            "text/plain": [
              "array([[  1,   4,   9,  16],\n",
              "       [ 25,  36,  49,  64],\n",
              "       [ 81, 100, 121, 144]])"
            ]
          },
          "metadata": {
            "tags": []
          },
          "execution_count": 100
        }
      ]
    },
    {
      "cell_type": "code",
      "metadata": {
        "id": "Dk-32TVcefJF"
      },
      "source": [
        "test_a = np.arange(1, 7).reshape(2, 3)\r\n",
        "test_b = np.arange(7, 13).reshape(3, 2)"
      ],
      "execution_count": 102,
      "outputs": []
    },
    {
      "cell_type": "code",
      "metadata": {
        "colab": {
          "base_uri": "https://localhost:8080/"
        },
        "id": "ISvqWHy6efGk",
        "outputId": "cd9fe0ba-04af-42fc-8ccd-5196ba500c0f"
      },
      "source": [
        "test_a.dot(test_b)"
      ],
      "execution_count": 103,
      "outputs": [
        {
          "output_type": "execute_result",
          "data": {
            "text/plain": [
              "array([[ 58,  64],\n",
              "       [139, 154]])"
            ]
          },
          "metadata": {
            "tags": []
          },
          "execution_count": 103
        }
      ]
    },
    {
      "cell_type": "code",
      "metadata": {
        "id": "WLNd886GefE0"
      },
      "source": [
        "test_matrix = np.array([[1, 2, 3], [4, 5, 6]], float)\r\n",
        "scalar = 3"
      ],
      "execution_count": 105,
      "outputs": []
    },
    {
      "cell_type": "code",
      "metadata": {
        "colab": {
          "base_uri": "https://localhost:8080/"
        },
        "id": "-sYyxptsefB3",
        "outputId": "8bc39b12-86cd-4ff3-bc5f-730e5757adb5"
      },
      "source": [
        "test_matrix + scalar"
      ],
      "execution_count": 106,
      "outputs": [
        {
          "output_type": "execute_result",
          "data": {
            "text/plain": [
              "array([[4., 5., 6.],\n",
              "       [7., 8., 9.]])"
            ]
          },
          "metadata": {
            "tags": []
          },
          "execution_count": 106
        }
      ]
    },
    {
      "cell_type": "code",
      "metadata": {
        "colab": {
          "base_uri": "https://localhost:8080/"
        },
        "id": "V2RghAj7ee_w",
        "outputId": "5400180b-4c03-4812-9792-bed0b6132b68"
      },
      "source": [
        "test_matrix - scalar"
      ],
      "execution_count": 107,
      "outputs": [
        {
          "output_type": "execute_result",
          "data": {
            "text/plain": [
              "array([[-2., -1.,  0.],\n",
              "       [ 1.,  2.,  3.]])"
            ]
          },
          "metadata": {
            "tags": []
          },
          "execution_count": 107
        }
      ]
    },
    {
      "cell_type": "code",
      "metadata": {
        "colab": {
          "base_uri": "https://localhost:8080/"
        },
        "id": "hZM6Qf2See9b",
        "outputId": "c485b06b-4de0-4d88-a8f1-f10e1a6d4cb4"
      },
      "source": [
        "test_matrix * 5"
      ],
      "execution_count": 108,
      "outputs": [
        {
          "output_type": "execute_result",
          "data": {
            "text/plain": [
              "array([[ 5., 10., 15.],\n",
              "       [20., 25., 30.]])"
            ]
          },
          "metadata": {
            "tags": []
          },
          "execution_count": 108
        }
      ]
    },
    {
      "cell_type": "code",
      "metadata": {
        "colab": {
          "base_uri": "https://localhost:8080/"
        },
        "id": "eTPa-QIKj18F",
        "outputId": "bde93074-fb63-427f-9758-ce03fb86512c"
      },
      "source": [
        "test_matrix / 5"
      ],
      "execution_count": 109,
      "outputs": [
        {
          "output_type": "execute_result",
          "data": {
            "text/plain": [
              "array([[0.2, 0.4, 0.6],\n",
              "       [0.8, 1. , 1.2]])"
            ]
          },
          "metadata": {
            "tags": []
          },
          "execution_count": 109
        }
      ]
    },
    {
      "cell_type": "code",
      "metadata": {
        "colab": {
          "base_uri": "https://localhost:8080/"
        },
        "id": "bplqTNVXj15u",
        "outputId": "76151937-6ee9-4ad7-e292-0f15ab3cc43a"
      },
      "source": [
        "test_matrix ** 2"
      ],
      "execution_count": 110,
      "outputs": [
        {
          "output_type": "execute_result",
          "data": {
            "text/plain": [
              "array([[ 1.,  4.,  9.],\n",
              "       [16., 25., 36.]])"
            ]
          },
          "metadata": {
            "tags": []
          },
          "execution_count": 110
        }
      ]
    },
    {
      "cell_type": "code",
      "metadata": {
        "colab": {
          "base_uri": "https://localhost:8080/"
        },
        "id": "vRyyk_nKj11u",
        "outputId": "419d7cee-8385-4d79-dccb-2d1c63b944b0"
      },
      "source": [
        "test_matrix = np.arange(1, 13).reshape(4, 3)\r\n",
        "test_vector = np.arange(10, 40, 10)\r\n",
        "test_matrix + test_vector"
      ],
      "execution_count": 111,
      "outputs": [
        {
          "output_type": "execute_result",
          "data": {
            "text/plain": [
              "array([[11, 22, 33],\n",
              "       [14, 25, 36],\n",
              "       [17, 28, 39],\n",
              "       [20, 31, 42]])"
            ]
          },
          "metadata": {
            "tags": []
          },
          "execution_count": 111
        }
      ]
    },
    {
      "cell_type": "code",
      "metadata": {
        "id": "ajjez1Loj1zX"
      },
      "source": [
        "def scalar_vector_product(scalar, vector):\r\n",
        "  result = []\r\n",
        "  for value in vector:\r\n",
        "    result.append(scalar*value)\r\n",
        "  return result\r\n",
        "\r\n",
        "iteration_max = 100000000\r\n",
        "\r\n",
        "vector = list(range(iteration_max))\r\n",
        "scalar = 2"
      ],
      "execution_count": 112,
      "outputs": []
    },
    {
      "cell_type": "code",
      "metadata": {
        "colab": {
          "base_uri": "https://localhost:8080/"
        },
        "id": "ADGXZfR3j1wi",
        "outputId": "643e67e5-e9a6-4537-b86d-6686acf047e1"
      },
      "source": [
        "%timeit scalar_vector_product(scalar, vector)"
      ],
      "execution_count": 114,
      "outputs": [
        {
          "output_type": "stream",
          "text": [
            "1 loop, best of 5: 12.4 s per loop\n"
          ],
          "name": "stdout"
        }
      ]
    },
    {
      "cell_type": "code",
      "metadata": {
        "colab": {
          "base_uri": "https://localhost:8080/"
        },
        "id": "HKxaAyeTj1tX",
        "outputId": "1532ba68-9b95-4cf3-db74-64aabe311b84"
      },
      "source": [
        "%timeit [ scalar * value for value in range(iteration_max)]"
      ],
      "execution_count": 115,
      "outputs": [
        {
          "output_type": "stream",
          "text": [
            "1 loop, best of 5: 11 s per loop\n"
          ],
          "name": "stdout"
        }
      ]
    },
    {
      "cell_type": "code",
      "metadata": {
        "colab": {
          "base_uri": "https://localhost:8080/"
        },
        "id": "xTkruD4vj1rm",
        "outputId": "4201c452-9ff9-4291-bb7f-b483888eafc2"
      },
      "source": [
        "%timeit np.arange(iteration_max) * scalar"
      ],
      "execution_count": 116,
      "outputs": [
        {
          "output_type": "stream",
          "text": [
            "1 loop, best of 5: 255 ms per loop\n"
          ],
          "name": "stdout"
        }
      ]
    },
    {
      "cell_type": "markdown",
      "metadata": {
        "id": "uv42xSfRqIrA"
      },
      "source": [
        "Comparison"
      ]
    },
    {
      "cell_type": "code",
      "metadata": {
        "colab": {
          "base_uri": "https://localhost:8080/"
        },
        "id": "hACtItK3j1nv",
        "outputId": "5831b5e7-ad29-485d-93d2-d719250a1f15"
      },
      "source": [
        "a = np.arange(10)\r\n",
        "a"
      ],
      "execution_count": 117,
      "outputs": [
        {
          "output_type": "execute_result",
          "data": {
            "text/plain": [
              "array([0, 1, 2, 3, 4, 5, 6, 7, 8, 9])"
            ]
          },
          "metadata": {
            "tags": []
          },
          "execution_count": 117
        }
      ]
    },
    {
      "cell_type": "code",
      "metadata": {
        "colab": {
          "base_uri": "https://localhost:8080/"
        },
        "id": "Ad7kTssFj1lN",
        "outputId": "bf518d2f-8534-437d-8926-7de3d7455dc2"
      },
      "source": [
        "np.any(a>5), np.any(a<0)"
      ],
      "execution_count": 118,
      "outputs": [
        {
          "output_type": "execute_result",
          "data": {
            "text/plain": [
              "(True, False)"
            ]
          },
          "metadata": {
            "tags": []
          },
          "execution_count": 118
        }
      ]
    },
    {
      "cell_type": "code",
      "metadata": {
        "colab": {
          "base_uri": "https://localhost:8080/"
        },
        "id": "Jd8-5lw_j1hw",
        "outputId": "9a93a123-6621-472e-d0fe-d01b6f096742"
      },
      "source": [
        "np.all(a>5), np.all(a<10)"
      ],
      "execution_count": 119,
      "outputs": [
        {
          "output_type": "execute_result",
          "data": {
            "text/plain": [
              "(False, True)"
            ]
          },
          "metadata": {
            "tags": []
          },
          "execution_count": 119
        }
      ]
    },
    {
      "cell_type": "code",
      "metadata": {
        "colab": {
          "base_uri": "https://localhost:8080/"
        },
        "id": "NFxATRnVj1ek",
        "outputId": "c798bc1c-a5fa-4771-e312-75510adee410"
      },
      "source": [
        "a > 5"
      ],
      "execution_count": 120,
      "outputs": [
        {
          "output_type": "execute_result",
          "data": {
            "text/plain": [
              "array([False, False, False, False, False, False,  True,  True,  True,\n",
              "        True])"
            ]
          },
          "metadata": {
            "tags": []
          },
          "execution_count": 120
        }
      ]
    },
    {
      "cell_type": "code",
      "metadata": {
        "colab": {
          "base_uri": "https://localhost:8080/"
        },
        "id": "yV6yhrhLj1bW",
        "outputId": "e0c26da9-4264-4939-c210-036176aba473"
      },
      "source": [
        "test_a = np.array([1, 3, 0], float)\r\n",
        "test_b = np.array([5, 2, 1], float)\r\n",
        "test_a > test_b"
      ],
      "execution_count": 121,
      "outputs": [
        {
          "output_type": "execute_result",
          "data": {
            "text/plain": [
              "array([False,  True, False])"
            ]
          },
          "metadata": {
            "tags": []
          },
          "execution_count": 121
        }
      ]
    },
    {
      "cell_type": "code",
      "metadata": {
        "colab": {
          "base_uri": "https://localhost:8080/"
        },
        "id": "Q0iiQQZ9j1YL",
        "outputId": "f45e55cb-af3f-44ed-b522-8254d1abc5fd"
      },
      "source": [
        "test_a == test_b"
      ],
      "execution_count": 122,
      "outputs": [
        {
          "output_type": "execute_result",
          "data": {
            "text/plain": [
              "array([False, False, False])"
            ]
          },
          "metadata": {
            "tags": []
          },
          "execution_count": 122
        }
      ]
    },
    {
      "cell_type": "code",
      "metadata": {
        "colab": {
          "base_uri": "https://localhost:8080/"
        },
        "id": "ASuk71TMq1xy",
        "outputId": "de3d1c3f-6819-4e4b-e717-99b37a980166"
      },
      "source": [
        "(test_a > test_b).any()"
      ],
      "execution_count": 123,
      "outputs": [
        {
          "output_type": "execute_result",
          "data": {
            "text/plain": [
              "True"
            ]
          },
          "metadata": {
            "tags": []
          },
          "execution_count": 123
        }
      ]
    },
    {
      "cell_type": "code",
      "metadata": {
        "colab": {
          "base_uri": "https://localhost:8080/"
        },
        "id": "_bo8BjF3q1uD",
        "outputId": "169fd4f9-31f9-4e32-ab0d-cf177d201c5b"
      },
      "source": [
        "a = np.array([1, 3, 0], float)\r\n",
        "np.logical_and(a > 0, a < 3)"
      ],
      "execution_count": 125,
      "outputs": [
        {
          "output_type": "execute_result",
          "data": {
            "text/plain": [
              "array([ True, False, False])"
            ]
          },
          "metadata": {
            "tags": []
          },
          "execution_count": 125
        }
      ]
    },
    {
      "cell_type": "code",
      "metadata": {
        "colab": {
          "base_uri": "https://localhost:8080/"
        },
        "id": "CJzG0o5Lq1s1",
        "outputId": "0be60b43-bfb3-4ece-9d9d-c61ce733ed43"
      },
      "source": [
        "b = np.array([True, False, True], bool)\r\n",
        "np.logical_not(b)"
      ],
      "execution_count": 126,
      "outputs": [
        {
          "output_type": "execute_result",
          "data": {
            "text/plain": [
              "array([False,  True, False])"
            ]
          },
          "metadata": {
            "tags": []
          },
          "execution_count": 126
        }
      ]
    },
    {
      "cell_type": "code",
      "metadata": {
        "colab": {
          "base_uri": "https://localhost:8080/"
        },
        "id": "g_Kfy2Q9q1pb",
        "outputId": "1b07caa4-c640-4be1-aee7-b3d80ba4195e"
      },
      "source": [
        "c = np.array([False, True, True], bool)\r\n",
        "np.logical_or(b,c)"
      ],
      "execution_count": 129,
      "outputs": [
        {
          "output_type": "execute_result",
          "data": {
            "text/plain": [
              "array([False,  True,  True])"
            ]
          },
          "metadata": {
            "tags": []
          },
          "execution_count": 129
        }
      ]
    },
    {
      "cell_type": "code",
      "metadata": {
        "colab": {
          "base_uri": "https://localhost:8080/"
        },
        "id": "P_9j3fuwq1n0",
        "outputId": "c3239a5b-5d94-495f-ae3d-f8c4ae5d1fcb"
      },
      "source": [
        "np.where(a > 0, 3, 2) #where(condition, TRUE, FALSE)"
      ],
      "execution_count": 130,
      "outputs": [
        {
          "output_type": "execute_result",
          "data": {
            "text/plain": [
              "array([3, 3, 2])"
            ]
          },
          "metadata": {
            "tags": []
          },
          "execution_count": 130
        }
      ]
    },
    {
      "cell_type": "code",
      "metadata": {
        "colab": {
          "base_uri": "https://localhost:8080/"
        },
        "id": "IYuWle6mq1lB",
        "outputId": "24a9e2cf-864c-4e23-ca41-fdb053643f05"
      },
      "source": [
        "a = np.arange(10)\r\n",
        "np.where(a>5)"
      ],
      "execution_count": 131,
      "outputs": [
        {
          "output_type": "execute_result",
          "data": {
            "text/plain": [
              "(array([6, 7, 8, 9]),)"
            ]
          },
          "metadata": {
            "tags": []
          },
          "execution_count": 131
        }
      ]
    },
    {
      "cell_type": "code",
      "metadata": {
        "colab": {
          "base_uri": "https://localhost:8080/"
        },
        "id": "E_wLBqhRq1jN",
        "outputId": "4fe8a3ed-dfe2-4156-9787-45ef02e215db"
      },
      "source": [
        "a = np.array([1, np.NaN, np.Inf], float)\r\n",
        "np.isnan(a)"
      ],
      "execution_count": 132,
      "outputs": [
        {
          "output_type": "execute_result",
          "data": {
            "text/plain": [
              "array([False,  True, False])"
            ]
          },
          "metadata": {
            "tags": []
          },
          "execution_count": 132
        }
      ]
    },
    {
      "cell_type": "code",
      "metadata": {
        "colab": {
          "base_uri": "https://localhost:8080/"
        },
        "id": "e2T33RGMq1gu",
        "outputId": "11236f7b-8f1f-41f6-c997-c9622193bdf2"
      },
      "source": [
        "np.isfinite(a)"
      ],
      "execution_count": 133,
      "outputs": [
        {
          "output_type": "execute_result",
          "data": {
            "text/plain": [
              "array([ True, False, False])"
            ]
          },
          "metadata": {
            "tags": []
          },
          "execution_count": 133
        }
      ]
    },
    {
      "cell_type": "markdown",
      "metadata": {
        "id": "k9hUkG1tsSYx"
      },
      "source": [
        "argmax, argmin"
      ]
    },
    {
      "cell_type": "code",
      "metadata": {
        "colab": {
          "base_uri": "https://localhost:8080/"
        },
        "id": "wKVXFUE9q1eJ",
        "outputId": "7bd2cab4-d757-4d34-c7fb-431e706585a2"
      },
      "source": [
        "a = np.array([1, 2, 4, 5, 8, 78, 23, 3])\r\n",
        "np.argmax(a), np.argmin(a) #index값 반환"
      ],
      "execution_count": 135,
      "outputs": [
        {
          "output_type": "execute_result",
          "data": {
            "text/plain": [
              "(5, 0)"
            ]
          },
          "metadata": {
            "tags": []
          },
          "execution_count": 135
        }
      ]
    },
    {
      "cell_type": "code",
      "metadata": {
        "colab": {
          "base_uri": "https://localhost:8080/"
        },
        "id": "oyvaMmtcq1ZH",
        "outputId": "19930cac-5cb5-4d68-b96d-eff215418c5f"
      },
      "source": [
        "a = np.array([[1, 2, 4, 7], [9, 88, 6, 45], [9, 76, 3, 4]])\r\n",
        "np.argmax(a, axis = 1), np.argmin(a, axis = 0)"
      ],
      "execution_count": 136,
      "outputs": [
        {
          "output_type": "execute_result",
          "data": {
            "text/plain": [
              "(array([3, 1, 1]), array([0, 0, 2, 2]))"
            ]
          },
          "metadata": {
            "tags": []
          },
          "execution_count": 136
        }
      ]
    },
    {
      "cell_type": "markdown",
      "metadata": {
        "id": "vEF892Gutnww"
      },
      "source": [
        "Boolean Index\r\n",
        "numpy 는 특정 조건에 따른 값을 추출 가능\r\n",
        "comparison operation 함수 사용 가능"
      ]
    },
    {
      "cell_type": "code",
      "metadata": {
        "colab": {
          "base_uri": "https://localhost:8080/"
        },
        "id": "2U0YUKxfq1Wl",
        "outputId": "74231d39-b3ed-4ba9-b48d-4d75f84e6db7"
      },
      "source": [
        "test_array = np.array([1, 4, 0, 2, 3, 8, 9, 7], float)\r\n",
        "test_array > 3"
      ],
      "execution_count": 137,
      "outputs": [
        {
          "output_type": "execute_result",
          "data": {
            "text/plain": [
              "array([False,  True, False, False, False,  True,  True,  True])"
            ]
          },
          "metadata": {
            "tags": []
          },
          "execution_count": 137
        }
      ]
    },
    {
      "cell_type": "code",
      "metadata": {
        "colab": {
          "base_uri": "https://localhost:8080/"
        },
        "id": "djlrqN-6tm_o",
        "outputId": "342b75b8-03bc-4970-abfb-ee285dcd17d1"
      },
      "source": [
        "test_array[test_array > 3]"
      ],
      "execution_count": 138,
      "outputs": [
        {
          "output_type": "execute_result",
          "data": {
            "text/plain": [
              "array([4., 8., 9., 7.])"
            ]
          },
          "metadata": {
            "tags": []
          },
          "execution_count": 138
        }
      ]
    },
    {
      "cell_type": "code",
      "metadata": {
        "colab": {
          "base_uri": "https://localhost:8080/"
        },
        "id": "1aoPc18Stm9O",
        "outputId": "1965d46d-02c5-4ee0-9fff-81f057f220a7"
      },
      "source": [
        "condition = test_array < 3\r\n",
        "test_array[condition]"
      ],
      "execution_count": 139,
      "outputs": [
        {
          "output_type": "execute_result",
          "data": {
            "text/plain": [
              "array([1., 0., 2.])"
            ]
          },
          "metadata": {
            "tags": []
          },
          "execution_count": 139
        }
      ]
    },
    {
      "cell_type": "markdown",
      "metadata": {
        "id": "3TLAh2aqv_XV"
      },
      "source": [
        "fancy index"
      ]
    },
    {
      "cell_type": "code",
      "metadata": {
        "colab": {
          "base_uri": "https://localhost:8080/"
        },
        "id": "XfaJur8Ptm6d",
        "outputId": "a7a388c0-acc0-4f32-f0cd-1717b663b579"
      },
      "source": [
        "a = np.array([2, 4, 6, 8], float)\r\n",
        "b = np.array([0, 0, 1, 3, 2, 1], int) #index 값\r\n",
        "a[b]"
      ],
      "execution_count": 140,
      "outputs": [
        {
          "output_type": "execute_result",
          "data": {
            "text/plain": [
              "array([2., 2., 4., 8., 6., 4.])"
            ]
          },
          "metadata": {
            "tags": []
          },
          "execution_count": 140
        }
      ]
    },
    {
      "cell_type": "code",
      "metadata": {
        "colab": {
          "base_uri": "https://localhost:8080/"
        },
        "id": "eZAvlZ8btm36",
        "outputId": "0bc2ba6e-67f7-48be-a70a-ff3baabd9063"
      },
      "source": [
        "a.take(b)"
      ],
      "execution_count": 141,
      "outputs": [
        {
          "output_type": "execute_result",
          "data": {
            "text/plain": [
              "array([2., 2., 4., 8., 6., 4.])"
            ]
          },
          "metadata": {
            "tags": []
          },
          "execution_count": 141
        }
      ]
    },
    {
      "cell_type": "code",
      "metadata": {
        "colab": {
          "base_uri": "https://localhost:8080/"
        },
        "id": "25lFHptvtm1j",
        "outputId": "04d4badd-1778-4982-aae3-e674454430a5"
      },
      "source": [
        "a = np.array([[1, 4], [9, 16]], float)\r\n",
        "b = np.array([0, 0, 1, 1, 0], int)\r\n",
        "c = np.array([0, 1, 1, 0, 1], int)\r\n",
        "a[b,c]"
      ],
      "execution_count": 144,
      "outputs": [
        {
          "output_type": "execute_result",
          "data": {
            "text/plain": [
              "array([ 1.,  4., 16.,  9.,  4.])"
            ]
          },
          "metadata": {
            "tags": []
          },
          "execution_count": 144
        }
      ]
    },
    {
      "cell_type": "markdown",
      "metadata": {
        "id": "Y4jeYcMPww1s"
      },
      "source": [
        "numpy data i/o"
      ]
    },
    {
      "cell_type": "code",
      "metadata": {
        "id": "UWRLt5wctmyv"
      },
      "source": [
        "a = np.loadtxt(\"./population.txt\")\r\n",
        "a[:10]"
      ],
      "execution_count": null,
      "outputs": []
    },
    {
      "cell_type": "code",
      "metadata": {
        "colab": {
          "base_uri": "https://localhost:8080/"
        },
        "id": "2WVxOw4rtmwB",
        "outputId": "f11a8dff-ce1c-4fbf-b626-f7ab4e191ea0"
      },
      "source": [
        "a_int = a.astype(int)\r\n",
        "a_int[:3]"
      ],
      "execution_count": 148,
      "outputs": [
        {
          "output_type": "execute_result",
          "data": {
            "text/plain": [
              "array([[ 1,  4],\n",
              "       [ 9, 16]])"
            ]
          },
          "metadata": {
            "tags": []
          },
          "execution_count": 148
        }
      ]
    },
    {
      "cell_type": "code",
      "metadata": {
        "id": "uGyND2ThtmtL"
      },
      "source": [
        "np.savetxt('int_data.csv', a_int, fmt = '%d', delimiter=\"\\t\")"
      ],
      "execution_count": 150,
      "outputs": []
    },
    {
      "cell_type": "markdown",
      "metadata": {
        "id": "WFp7xKYpxvZ4"
      },
      "source": [
        "numpy object -npy"
      ]
    },
    {
      "cell_type": "code",
      "metadata": {
        "id": "CrSgwuj_tmqu"
      },
      "source": [
        "np.save('npy_test.npy', arr = a_int)"
      ],
      "execution_count": 152,
      "outputs": []
    },
    {
      "cell_type": "code",
      "metadata": {
        "colab": {
          "base_uri": "https://localhost:8080/"
        },
        "id": "7WpBroY8tmn-",
        "outputId": "5e9e79d1-b296-4668-8fcb-725d4595da5c"
      },
      "source": [
        "npy_array = np.load(file = 'npy_test.npy')\r\n",
        "npy_array[:1]"
      ],
      "execution_count": 155,
      "outputs": [
        {
          "output_type": "execute_result",
          "data": {
            "text/plain": [
              "array([[1, 4]])"
            ]
          },
          "metadata": {
            "tags": []
          },
          "execution_count": 155
        }
      ]
    }
  ]
}